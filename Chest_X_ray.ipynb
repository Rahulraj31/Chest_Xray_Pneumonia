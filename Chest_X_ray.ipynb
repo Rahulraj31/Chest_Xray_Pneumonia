{
  "nbformat": 4,
  "nbformat_minor": 0,
  "metadata": {
    "colab": {
      "name": "Chest X ray.ipynb",
      "provenance": [],
      "mount_file_id": "1a48BUAuTBLiwGnFYQsLvazMtFo6sqQ5V",
      "authorship_tag": "ABX9TyPIp9ciRQRxIRSyHGEagq7p",
      "include_colab_link": true
    },
    "kernelspec": {
      "name": "python3",
      "display_name": "Python 3"
    },
    "language_info": {
      "name": "python"
    },
    "accelerator": "GPU"
  },
  "cells": [
    {
      "cell_type": "markdown",
      "metadata": {
        "id": "view-in-github",
        "colab_type": "text"
      },
      "source": [
        "<a href=\"https://colab.research.google.com/github/Rahulraj31/Chest_Xray_Pneumonia/blob/main/Chest_X_ray.ipynb\" target=\"_parent\"><img src=\"https://colab.research.google.com/assets/colab-badge.svg\" alt=\"Open In Colab\"/></a>"
      ]
    },
    {
      "cell_type": "code",
      "metadata": {
        "id": "ycj91n1ufb2b"
      },
      "source": [
        "import PIL.Image as Image\n",
        "import cv2\n",
        "import numpy as np\n",
        "import pandas as pd\n",
        "\n",
        "import matplotlib.pylab as plt\n",
        "\n",
        "import tensorflow as tf\n",
        "import tensorflow_hub as hub\n",
        "\n",
        "from tensorflow import keras\n",
        "from tensorflow.keras import layers,losses\n",
        "from tensorflow.keras.models import Sequential\n",
        "from keras.preprocessing.image import ImageDataGenerator"
      ],
      "execution_count": 7,
      "outputs": []
    },
    {
      "cell_type": "code",
      "metadata": {
        "id": "vHjvtRxlgeHc"
      },
      "source": [
        "import zipfile\n",
        "\n",
        "local_zip = '/content/drive/MyDrive/Colab Notebooks/chest X ray - Sorted.zip'\n",
        "zip_ref = zipfile.ZipFile(local_zip, 'r')\n",
        "zip_ref.extractall('/content')\n",
        "zip_ref.close()"
      ],
      "execution_count": 1,
      "outputs": []
    },
    {
      "cell_type": "code",
      "metadata": {
        "id": "6LYg4ffkg9qm"
      },
      "source": [
        "from pathlib import Path \n",
        "# Define path to the data directory\n",
        "dir_alldata = Path('/content/chest_xray')\n",
        "\n",
        "# Path to train directory \n",
        "train_data_dir = dir_alldata / 'train'\n",
        "\n",
        "# Path to validation directory\n",
        "validation_data_dir = dir_alldata / 'val'\n",
        "\n",
        "# Path to test directory\n",
        "test_data_dir = dir_alldata / 'test'\n",
        "\n",
        "# Get the path to the normal and pneumonia sub-directories\n",
        "normal_cases_train = train_data_dir / 'NORMAL'\n",
        "pneumonia_cases_train = train_data_dir / 'PNEUMONIA'"
      ],
      "execution_count": 3,
      "outputs": []
    },
    {
      "cell_type": "code",
      "metadata": {
        "id": "YCCzqupulUFu"
      },
      "source": [
        "train_images_dict = {\n",
        "    'normal': list(normal_cases_train.glob('*')) ,   \n",
        "    'pneumonia': list(pneumonia_cases_train.glob('*'))  \n",
        "}\n",
        "\n",
        "test_images_dict = {\n",
        "    'normal': list(test_data_dir.glob('NORMAL/*')) ,   \n",
        "    'pneumonia': list(test_data_dir.glob('PNEUMONIA/*'))  \n",
        "}\n",
        "\n",
        "val_images_dict = {\n",
        "    'normal': list(validation_data_dir.glob('NORMAL/*')) ,   \n",
        "    'pneumonia': list(validation_data_dir.glob('PNEUMONIA/*'))  \n",
        "}\n",
        "\n",
        "\n",
        "labels_dict = {\n",
        "    'normal': \"normal\",\n",
        "    'pneumonia': \"pneumonia\",\n",
        "    \n",
        "}"
      ],
      "execution_count": 14,
      "outputs": []
    },
    {
      "cell_type": "code",
      "metadata": {
        "colab": {
          "base_uri": "https://localhost:8080/"
        },
        "id": "tG-J3ASamgbK",
        "outputId": "f6d2428f-c511-4f19-891f-e9b2ed534d1e"
      },
      "source": [
        "img= cv2.imread(str(train_images_dict['pneumonia'][0]))\n",
        "img.shape"
      ],
      "execution_count": 19,
      "outputs": [
        {
          "output_type": "execute_result",
          "data": {
            "text/plain": [
              "(1249, 1758, 3)"
            ]
          },
          "metadata": {
            "tags": []
          },
          "execution_count": 19
        }
      ]
    },
    {
      "cell_type": "code",
      "metadata": {
        "colab": {
          "base_uri": "https://localhost:8080/"
        },
        "id": "gF17PR4TmmDH",
        "outputId": "0d06a0a4-104f-483b-d400-15b5ee1a8218"
      },
      "source": [
        "img= cv2.imread(str(test_images_dict['normal'][10]))\n",
        "img.shape"
      ],
      "execution_count": 20,
      "outputs": [
        {
          "output_type": "execute_result",
          "data": {
            "text/plain": [
              "(1576, 2143, 3)"
            ]
          },
          "metadata": {
            "tags": []
          },
          "execution_count": 20
        }
      ]
    },
    {
      "cell_type": "code",
      "metadata": {
        "colab": {
          "base_uri": "https://localhost:8080/"
        },
        "id": "7g6t7BbBmzNO",
        "outputId": "5e509fef-5595-4608-e09f-f794a665e6f3"
      },
      "source": [
        "img= cv2.imread(str(val_images_dict['normal'][0]))\n",
        "img.shape"
      ],
      "execution_count": 17,
      "outputs": [
        {
          "output_type": "execute_result",
          "data": {
            "text/plain": [
              "(1416, 1776, 3)"
            ]
          },
          "metadata": {
            "tags": []
          },
          "execution_count": 17
        }
      ]
    },
    {
      "cell_type": "code",
      "metadata": {
        "id": "h2oh3jt-nioH"
      },
      "source": [
        "Xtrain, ytrain = [], []\n",
        "for name,images in train_images_dict.items():#returns key , path for each record\n",
        "    for image in images:\n",
        "        img=str(image)\n",
        "    \n",
        "        Xtrain.append(img)\n",
        "        ytrain.append(labels_dict[name])\n",
        "\n",
        "\n",
        "Fseries = pd.Series(Xtrain, name=\"filepaths\",dtype=str)\n",
        "Lseries = pd.Series(ytrain, name=\"labels\",dtype=str)\n",
        "train_data = pd.concat([Fseries,Lseries], axis=1)\n",
        "train_df = pd.DataFrame(train_data)"
      ],
      "execution_count": 26,
      "outputs": []
    },
    {
      "cell_type": "code",
      "metadata": {
        "colab": {
          "base_uri": "https://localhost:8080/"
        },
        "id": "vdB_J2iIoqUt",
        "outputId": "2ceddffe-309d-48d2-85a2-ef7f28ec72c2"
      },
      "source": [
        "print(train_df[\"labels\"].value_counts())"
      ],
      "execution_count": 30,
      "outputs": [
        {
          "output_type": "stream",
          "text": [
            "pneumonia    3875\n",
            "normal       1341\n",
            "Name: labels, dtype: int64\n"
          ],
          "name": "stdout"
        }
      ]
    },
    {
      "cell_type": "code",
      "metadata": {
        "id": "KMHd11xhowfW"
      },
      "source": [
        "Xtest, ytest = [], []\n",
        "for name,images in test_images_dict.items():#returns key , path for each record\n",
        "    for image in images:\n",
        "        img=str(image)\n",
        "    \n",
        "        Xtest.append(img)\n",
        "        ytest.append(labels_dict[name])\n",
        "\n",
        "\n",
        "Fseries = pd.Series(Xtest, name=\"filepaths\",dtype=str)\n",
        "Lseries = pd.Series(ytest, name=\"labels\",dtype=str)\n",
        "test_data = pd.concat([Fseries,Lseries], axis=1)\n",
        "test_df = pd.DataFrame(test_data)"
      ],
      "execution_count": 39,
      "outputs": []
    },
    {
      "cell_type": "code",
      "metadata": {
        "colab": {
          "base_uri": "https://localhost:8080/"
        },
        "id": "VuuYBK1lpKH9",
        "outputId": "b2489b97-b88d-46f4-8b30-801fe2d5fafb"
      },
      "source": [
        "test_df[\"labels\"].value_counts()"
      ],
      "execution_count": 40,
      "outputs": [
        {
          "output_type": "execute_result",
          "data": {
            "text/plain": [
              "pneumonia    390\n",
              "normal       234\n",
              "Name: labels, dtype: int64"
            ]
          },
          "metadata": {
            "tags": []
          },
          "execution_count": 40
        }
      ]
    },
    {
      "cell_type": "code",
      "metadata": {
        "colab": {
          "base_uri": "https://localhost:8080/"
        },
        "id": "-5wfVTp2ppkd",
        "outputId": "26a3625e-78d8-42f9-bba3-59ae5efc9417"
      },
      "source": [
        "Xval, yval = [], []\n",
        "for name,images in val_images_dict.items():#returns key , path for each record\n",
        "    for image in images:\n",
        "        img=str(image)\n",
        "    \n",
        "        Xval.append(img)\n",
        "        yval.append(labels_dict[name])\n",
        "\n",
        "\n",
        "Fseries = pd.Series(Xval, name=\"filepaths\",dtype=str)\n",
        "Lseries = pd.Series(yval, name=\"labels\",dtype=str)\n",
        "val_data = pd.concat([Fseries,Lseries], axis=1)\n",
        "val_df = pd.DataFrame(val_data)\n",
        "\n",
        "val_df[\"labels\"].value_counts()"
      ],
      "execution_count": 42,
      "outputs": [
        {
          "output_type": "execute_result",
          "data": {
            "text/plain": [
              "normal       8\n",
              "pneumonia    8\n",
              "Name: labels, dtype: int64"
            ]
          },
          "metadata": {
            "tags": []
          },
          "execution_count": 42
        }
      ]
    },
    {
      "cell_type": "code",
      "metadata": {
        "colab": {
          "base_uri": "https://localhost:8080/"
        },
        "id": "u0PBROaoqDsU",
        "outputId": "55e28171-cb07-4872-dca5-d537a1f49441"
      },
      "source": [
        "\n",
        "#shape of data\n",
        "print(train_df.shape)\n",
        "print(test_df.shape)\n",
        "print(val_df.shape)"
      ],
      "execution_count": 43,
      "outputs": [
        {
          "output_type": "stream",
          "text": [
            "(5216, 2)\n",
            "(624, 2)\n",
            "(16, 2)\n"
          ],
          "name": "stdout"
        }
      ]
    },
    {
      "cell_type": "code",
      "metadata": {
        "colab": {
          "base_uri": "https://localhost:8080/"
        },
        "id": "M3ws4Nf4qYf2",
        "outputId": "d4d6e04a-8fbd-4743-fb00-bfcec2b5ddbb"
      },
      "source": [
        "#Generate batches of tensor image data with real-time data augmentation.\n",
        "image_gen = ImageDataGenerator(preprocessing_function= tf.keras.applications.mobilenet_v2.preprocess_input)\n",
        "train = image_gen.flow_from_dataframe(dataframe= train_df,x_col=\"filepaths\",y_col=\"labels\",\n",
        "                                      target_size=(244,244),\n",
        "                                      color_mode='rgb',\n",
        "                                      class_mode=\"categorical\", #used for Sequential Model\n",
        "                                      batch_size=32,\n",
        "                                      shuffle=False            #do not shuffle data\n",
        "                                     )\n",
        "test = image_gen.flow_from_dataframe(dataframe= test_df,x_col=\"filepaths\", y_col=\"labels\",\n",
        "                                     target_size=(244,244),\n",
        "                                     color_mode='rgb',\n",
        "                                     class_mode=\"categorical\",\n",
        "                                     batch_size=32,\n",
        "                                     shuffle= False\n",
        "                                    )\n",
        "val = image_gen.flow_from_dataframe(dataframe= val_df,x_col=\"filepaths\", y_col=\"labels\",\n",
        "                                    target_size=(244,244),\n",
        "                                    color_mode= 'rgb',\n",
        "                                    class_mode=\"categorical\",\n",
        "                                    batch_size=32,\n",
        "                                    shuffle=False\n",
        "                                   )"
      ],
      "execution_count": 45,
      "outputs": [
        {
          "output_type": "stream",
          "text": [
            "Found 5216 validated image filenames belonging to 2 classes.\n",
            "Found 624 validated image filenames belonging to 2 classes.\n",
            "Found 16 validated image filenames belonging to 2 classes.\n"
          ],
          "name": "stdout"
        }
      ]
    },
    {
      "cell_type": "code",
      "metadata": {
        "colab": {
          "base_uri": "https://localhost:8080/"
        },
        "id": "UiNczvujqzJP",
        "outputId": "bc35775e-3810-4733-99f4-8919e6d09a0a"
      },
      "source": [
        "\n",
        "classes=list(train.class_indices.keys())\n",
        "print (classes)"
      ],
      "execution_count": 46,
      "outputs": [
        {
          "output_type": "stream",
          "text": [
            "['normal', 'pneumonia']\n"
          ],
          "name": "stdout"
        }
      ]
    },
    {
      "cell_type": "code",
      "metadata": {
        "id": "krpYz3PIq7VG"
      },
      "source": [
        "cnn= Sequential([\n",
        "                        #cnn layer \n",
        "                        layers.Conv2D(filters=32,kernel_size=(3,3),activation='relu',padding='same',input_shape=(244,244,3)),\n",
        "                        layers.Conv2D(filters=32,kernel_size=(3,3),activation='relu',padding='same'),\n",
        "                        layers.MaxPool2D(pool_size=(2,2)),\n",
        "\n",
        "                        layers.Conv2D(filters=32,kernel_size=(3,3),activation='relu',padding='same'),\n",
        "                        layers.Conv2D(filters=32,kernel_size=(3,3),activation='relu',padding='same'),\n",
        "                        layers.MaxPool2D(pool_size=(2,2)),\n",
        "\n",
        "                        layers.Flatten(),\n",
        "                        layers.Dense(128, activation='relu'),\n",
        "                        layers.Dropout(rate=0.3),\n",
        "                        layers.Dense(64, activation=\"relu\"),\n",
        "                        layers.Dense(2, activation=\"sigmoid\")\n",
        "\n",
        "])"
      ],
      "execution_count": 47,
      "outputs": []
    },
    {
      "cell_type": "code",
      "metadata": {
        "id": "ygydBd6grJKI"
      },
      "source": [
        "cnn.compile(optimizer=\"adam\", loss=\"categorical_crossentropy\", metrics=[\"accuracy\"])"
      ],
      "execution_count": 48,
      "outputs": []
    },
    {
      "cell_type": "code",
      "metadata": {
        "colab": {
          "base_uri": "https://localhost:8080/"
        },
        "id": "suHlRRoVrM-e",
        "outputId": "ae9fd710-f628-4144-c143-8e59b9b6b6de"
      },
      "source": [
        "History = cnn.fit(train, validation_data= val, epochs=10,verbose=1)"
      ],
      "execution_count": 49,
      "outputs": [
        {
          "output_type": "stream",
          "text": [
            "Epoch 1/10\n",
            "163/163 [==============================] - 87s 333ms/step - loss: 1.0573 - accuracy: 0.7301 - val_loss: 0.7790 - val_accuracy: 0.5000\n",
            "Epoch 2/10\n",
            "163/163 [==============================] - 53s 328ms/step - loss: 0.4440 - accuracy: 0.8612 - val_loss: 0.5833 - val_accuracy: 0.6250\n",
            "Epoch 3/10\n",
            "163/163 [==============================] - 53s 324ms/step - loss: 0.1733 - accuracy: 0.9339 - val_loss: 0.2894 - val_accuracy: 0.8125\n",
            "Epoch 4/10\n",
            "163/163 [==============================] - 53s 325ms/step - loss: 0.1059 - accuracy: 0.9624 - val_loss: 0.6394 - val_accuracy: 0.7500\n",
            "Epoch 5/10\n",
            "163/163 [==============================] - 54s 329ms/step - loss: 0.0800 - accuracy: 0.9701 - val_loss: 0.4101 - val_accuracy: 0.7500\n",
            "Epoch 6/10\n",
            "163/163 [==============================] - 54s 329ms/step - loss: 0.0607 - accuracy: 0.9770 - val_loss: 0.1691 - val_accuracy: 0.9375\n",
            "Epoch 7/10\n",
            "163/163 [==============================] - 54s 330ms/step - loss: 0.0510 - accuracy: 0.9801 - val_loss: 0.3262 - val_accuracy: 0.8750\n",
            "Epoch 8/10\n",
            "163/163 [==============================] - 54s 327ms/step - loss: 0.2409 - accuracy: 0.9344 - val_loss: 0.4761 - val_accuracy: 0.7500\n",
            "Epoch 9/10\n",
            "163/163 [==============================] - 54s 327ms/step - loss: 0.0542 - accuracy: 0.9803 - val_loss: 0.6017 - val_accuracy: 0.8125\n",
            "Epoch 10/10\n",
            "163/163 [==============================] - 54s 328ms/step - loss: 0.0262 - accuracy: 0.9910 - val_loss: 0.4450 - val_accuracy: 0.8750\n"
          ],
          "name": "stdout"
        }
      ]
    },
    {
      "cell_type": "code",
      "metadata": {
        "id": "FKolFgK4rPdm"
      },
      "source": [
        ""
      ],
      "execution_count": null,
      "outputs": []
    }
  ]
}